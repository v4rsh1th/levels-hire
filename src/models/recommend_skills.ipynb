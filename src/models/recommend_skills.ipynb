{
 "cells": [
  {
   "cell_type": "code",
   "execution_count": 2,
   "metadata": {},
   "outputs": [],
   "source": [
    "import pandas as pd\n",
    "from sklearn.feature_extraction.text import TfidfVectorizer\n",
    "from sklearn.metrics.pairwise import cosine_similarity"
   ]
  },
  {
   "cell_type": "code",
   "execution_count": 3,
   "metadata": {},
   "outputs": [],
   "source": [
    "# Load the dataset\n",
    "dataset = pd.read_csv('../../data/raw/revisioned_first_set.csv')"
   ]
  },
  {
   "cell_type": "code",
   "execution_count": 4,
   "metadata": {},
   "outputs": [],
   "source": [
    "dataset['Skills Required'] = dataset['Skills Required'].str.split(', ')"
   ]
  },
  {
   "cell_type": "code",
   "execution_count": 5,
   "metadata": {},
   "outputs": [],
   "source": [
    "tfidf_vectorizer = TfidfVectorizer()\n",
    "tfidf_matrix = tfidf_vectorizer.fit_transform(dataset['Job Role Title'])"
   ]
  },
  {
   "cell_type": "markdown",
   "metadata": {},
   "source": [
    "## Tell the skillset required for the specific job role"
   ]
  },
  {
   "cell_type": "code",
   "execution_count": 6,
   "metadata": {},
   "outputs": [
    {
     "name": "stdout",
     "output_type": "stream",
     "text": [
      "Exact match found!\n",
      "Job Role: AI Engineer\n",
      "Skills: Machine Learning,  Deep Learning,  Python,  TensorFlow,  PyTorch,  NLP\n"
     ]
    }
   ],
   "source": [
    "user_input = input(\"Enter a job role: \")\n",
    "exact_match = dataset[dataset['Job Role Title'].str.lower() == user_input.lower()]\n",
    "\n",
    "if not exact_match.empty:\n",
    "    print(\"Exact match found!\")\n",
    "    print(f\"Job Role: {exact_match['Job Role Title'].values[0]}\")\n",
    "    print(f\"Skills: {', '.join(exact_match['Skills Required'].values[0])}\")\n",
    "else:\n",
    "    user_input_vector = tfidf_vectorizer.transform([user_input])\n",
    "    similarities = cosine_similarity(user_input_vector, tfidf_matrix)\n",
    "    threshold = 0.2\n",
    "\n",
    "    similar_roles = dataset[similarities[0] > threshold]\n",
    "\n",
    "    if not similar_roles.empty:\n",
    "        print(\"Similar job roles found:\")\n",
    "        for index, row in similar_roles.head(3).iterrows():\n",
    "            print(f\"Job Role: {row['Job Role Title']}\")\n",
    "            print(f\"Skills: {', '.join(row['Skills Required'])} \\n\")\n",
    "    else:\n",
    "        print(\"No matching job roles found.\")"
   ]
  },
  {
   "cell_type": "markdown",
   "metadata": {},
   "source": [
    "In the above code, we used several concepts and libraries for the task of finding job roles based on user input and then displaying the combined skills for those roles. Here are the key concepts and libraries used:\n",
    "\n",
    "1. **Pandas:** We used the Pandas library to load and manipulate the dataset stored in a CSV file. Pandas provides data structures and functions for data analysis and manipulation, making it easy to work with tabular data.\n",
    "\n",
    "2. **NLP (Natural Language Processing):** NLP concepts are used for tokenizing and processing text data. In particular, we tokenized the job roles, user input, and skills to work with text-based information.\n",
    "\n",
    "3. **TF-IDF (Term Frequency-Inverse Document Frequency):** We used TF-IDF vectorization to represent the job roles as numerical vectors. This technique is commonly used in text mining and information retrieval to convert text data into a numerical format for similarity calculations.\n",
    "\n",
    "4. **Cosine Similarity:** Cosine similarity is a metric used to determine how similar two vectors (in our case, job roles) are in a high-dimensional space. We calculated the cosine similarity between job roles to identify similar job roles based on their textual content.\n",
    "\n",
    "5. **Data Preprocessing:** We preprocessed the dataset by splitting the skills in each job role into a list. This allowed us to work with individual skills for each role.\n",
    "\n",
    "6. **Matching and Filtering:** We matched user input against job roles based on common words or tokens. If at least one word from the user input matched with any word in a job role, we considered it a match.\n",
    "\n",
    "7. **Thresholding:** We applied a similarity threshold to filter out job roles that are considered similar based on the cosine similarity scores.\n",
    "\n",
    "8. **Data Structures:** We used Python dictionaries and sets to organize and store information. Dictionaries were used to map job roles to their corresponding skills, and sets were used to combine and store unique skills.\n",
    "\n",
    "9. **Looping and Iteration:** We used loops to iterate through job roles and their similarities, as well as to iterate through tokens in the user input.\n",
    "\n",
    "10. **Conditional Statements:** We used conditional statements to filter and display the results, such as showing the combined skills for matched job roles.\n",
    "\n",
    "These concepts and libraries were combined to create a program that takes user input, finds matching job roles, identifies similar roles, and displays the combined skills for those roles."
   ]
  },
  {
   "cell_type": "code",
   "execution_count": 7,
   "metadata": {},
   "outputs": [
    {
     "name": "stdout",
     "output_type": "stream",
     "text": [
      "Best match found!\n",
      "Job Role: Senior Data Scientist\n",
      "Similarity Score: 14.29%\n"
     ]
    }
   ],
   "source": [
    "def jaccard_similarity(skills_set1, skills_set2):\n",
    "    set1 = set(skills_set1)\n",
    "    set2 = set(skills_set2)\n",
    "    intersection = len(set1.intersection(set2))\n",
    "    union = len(set1) + len(set2) - intersection\n",
    "    return intersection / union if union > 0 else 0\n",
    "\n",
    "user_skills_input = input(\"Enter your skills separated by commas: \")\n",
    "user_skills = [skill.strip() for skill in user_skills_input.split(',')]\n",
    "\n",
    "best_match = None\n",
    "best_similarity = 0\n",
    "\n",
    "for index, row in dataset.iterrows():\n",
    "    dataset_skills = row['Skills Required']\n",
    "    similarity = jaccard_similarity(user_skills, dataset_skills)\n",
    "    \n",
    "    if similarity > best_similarity:\n",
    "        best_similarity = similarity\n",
    "        best_match = row['Job Role Title']\n",
    "\n",
    "if best_match:\n",
    "    print(f\"Best match found!\")\n",
    "    print(f\"Job Role: {best_match}\")\n",
    "    print(f\"Similarity Score: {best_similarity:.2%}\")\n",
    "else:\n",
    "    print(\"No matching job roles found.\")\n"
   ]
  },
  {
   "cell_type": "markdown",
   "metadata": {},
   "source": [
    "## Tell the job role matching the skillset"
   ]
  },
  {
   "cell_type": "code",
   "execution_count": 12,
   "metadata": {},
   "outputs": [
    {
     "name": "stdout",
     "output_type": "stream",
     "text": [
      "Best match found!\n",
      "Job Role: AI Engineer\n"
     ]
    }
   ],
   "source": [
    "from sklearn.feature_extraction.text import CountVectorizer\n",
    "from sklearn.metrics.pairwise import cosine_similarity\n",
    "\n",
    "def get_best_match(user_input, dataset):\n",
    "    # Check for an exact match\n",
    "    exact_match = dataset[dataset['Job Role Title'].str.lower() == user_input.lower()]\n",
    "\n",
    "    if not exact_match.empty:\n",
    "        return exact_match.iloc[0]['Job Role Title']\n",
    "\n",
    "    # If no exact match, find the best match based on word similarity\n",
    "    vectorizer = CountVectorizer()\n",
    "    skills_matrix = vectorizer.fit_transform(dataset['Skills Required'].apply(lambda x: ' '.join(x)))\n",
    "    user_input_vector = vectorizer.transform([user_input])\n",
    "\n",
    "    similarities = cosine_similarity(user_input_vector, skills_matrix)\n",
    "\n",
    "    best_match_index = similarities.argmax()\n",
    "    best_match = dataset.iloc[best_match_index]['Job Role Title']\n",
    "\n",
    "    return best_match\n",
    "\n",
    "user_skills_input = input(\"Enter your skills separated by commas: \")\n",
    "user_skills = [skill.strip() for skill in user_skills_input.split(',')]\n",
    "\n",
    "best_matched_job = get_best_match(user_skills_input, dataset)\n",
    "\n",
    "if best_matched_job:\n",
    "    print(\"Best match found!\")\n",
    "    print(f\"Job Role: {best_matched_job}\")\n",
    "else:\n",
    "    print(\"No matching job roles found.\")\n"
   ]
  },
  {
   "cell_type": "code",
   "execution_count": 9,
   "metadata": {},
   "outputs": [
    {
     "name": "stdout",
     "output_type": "stream",
     "text": [
      "Best match found!\n",
      "Job Role: AI Engineer\n",
      "Skills: Machine Learning,  Deep Learning,  Python,  TensorFlow,  PyTorch,  NLP\n"
     ]
    }
   ],
   "source": [
    "from sklearn.feature_extraction.text import CountVectorizer\n",
    "from sklearn.metrics.pairwise import cosine_similarity\n",
    "\n",
    "def get_best_match(user_input, dataset):\n",
    "    # Check for an exact mat\n",
    "    exact_match = dataset[dataset['Job Role Title'].str.lower() == user_input.lower()]\n",
    "\n",
    "    if not exact_match.empty:\n",
    "        return exact_match.iloc[0]['Job Role Title'], exact_match.iloc[0]['Skills Required']\n",
    "\n",
    "    # If no exact match, find the best match based on word similarity\n",
    "    vectorizer = CountVectorizer()\n",
    "    skills_matrix = vectorizer.fit_transform(dataset['Skills Required'].apply(lambda x: ' '.join(x)))\n",
    "    user_input_vector = vectorizer.transform([user_input])\n",
    "\n",
    "    similarities = cosine_similarity(user_input_vector, skills_matrix)\n",
    "\n",
    "    best_match_index = similarities.argmax()\n",
    "    best_match_title = dataset.iloc[best_match_index]['Job Role Title']\n",
    "    best_match_skills = dataset.iloc[best_match_index]['Skills Required']\n",
    "\n",
    "    return best_match_title, best_match_skills\n",
    "\n",
    "user_skills_input = input(\"Enter your skills separated by commas: \")\n",
    "user_skills = [skill.strip() for skill in user_skills_input.split(',')]\n",
    "\n",
    "best_matched_job, best_matched_skills = get_best_match(user_skills_input, dataset)\n",
    "\n",
    "if best_matched_job:\n",
    "    print(\"Best match found!\")\n",
    "    print(f\"Job Role: {best_matched_job}\")\n",
    "    print(f\"Skills: {', '.join(best_matched_skills)}\")\n",
    "else:\n",
    "    print(\"No matching job roles found.\")\n"
   ]
  },
  {
   "cell_type": "code",
   "execution_count": null,
   "metadata": {},
   "outputs": [],
   "source": []
  }
 ],
 "metadata": {
  "kernelspec": {
   "display_name": "venv",
   "language": "python",
   "name": "python3"
  },
  "language_info": {
   "codemirror_mode": {
    "name": "ipython",
    "version": 3
   },
   "file_extension": ".py",
   "mimetype": "text/x-python",
   "name": "python",
   "nbconvert_exporter": "python",
   "pygments_lexer": "ipython3",
   "version": "3.12.0"
  }
 },
 "nbformat": 4,
 "nbformat_minor": 2
}
