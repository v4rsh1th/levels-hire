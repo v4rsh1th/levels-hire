{
 "cells": [
  {
   "cell_type": "code",
   "execution_count": 2,
   "metadata": {},
   "outputs": [
    {
     "name": "stdout",
     "output_type": "stream",
     "text": [
      "Topic 1: data, learning, analysis, python, visualization, machine, statistical, deep, sql\n",
      "Topic 2: data, modeling, sql, cloud, computing, etl, database, hadoop, design\n",
      "Topic 3: data, spark, hadoop, sql, python, etl, aws, nosql, warehousing\n"
     ]
    }
   ],
   "source": [
    "import pandas as pd\n",
    "from sklearn.feature_extraction.text import CountVectorizer\n",
    "from sklearn.decomposition import LatentDirichletAllocation\n",
    "\n",
    "dataset = pd.read_csv('../../data/processed/processed_data.csv')\n",
    "\n",
    "\n",
    "skills_text = dataset['Skills Required'].str.replace(', ', ' ')\n",
    "\n",
    "# Vectorize skills using CountVectorizer\n",
    "vectorizer = CountVectorizer()\n",
    "skills_matrix = vectorizer.fit_transform(skills_text)\n",
    "\n",
    "# Apply Latent Dirichlet Allocation (LDA) for topic modeling\n",
    "num_topics = 3  # You can adjust the number of topics based on your analysis\n",
    "lda = LatentDirichletAllocation(n_components=num_topics, random_state=42)\n",
    "lda.fit(skills_matrix)\n",
    "\n",
    "# Extract the most important words (skills) for each topic\n",
    "feature_names = vectorizer.get_feature_names_out()\n",
    "topic_top_words = {}\n",
    "for topic_idx, topic in enumerate(lda.components_):\n",
    "    top_words_idx = topic.argsort()[:-10:-1]  # Extract top 10 words for each topic\n",
    "    top_words = [feature_names[i] for i in top_words_idx]\n",
    "    topic_top_words[f'Topic {topic_idx + 1}'] = top_words\n",
    "\n",
    "# Display the most important words (skills) for each topic\n",
    "for topic, top_words in topic_top_words.items():\n",
    "    print(f\"{topic}: {', '.join(top_words)}\")\n"
   ]
  }
 ],
 "metadata": {
  "kernelspec": {
   "display_name": "venv",
   "language": "python",
   "name": "python3"
  },
  "language_info": {
   "codemirror_mode": {
    "name": "ipython",
    "version": 3
   },
   "file_extension": ".py",
   "mimetype": "text/x-python",
   "name": "python",
   "nbconvert_exporter": "python",
   "pygments_lexer": "ipython3",
   "version": "3.12.0"
  }
 },
 "nbformat": 4,
 "nbformat_minor": 2
}
