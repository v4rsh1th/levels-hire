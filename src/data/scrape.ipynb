{
 "cells": [
  {
   "cell_type": "code",
   "execution_count": 1,
   "metadata": {},
   "outputs": [],
   "source": [
    "import requests\n",
    "from bs4 import BeautifulSoup\n",
    "import math"
   ]
  },
  {
   "cell_type": "code",
   "execution_count": 2,
   "metadata": {},
   "outputs": [],
   "source": [
    "target_url = 'https://www.linkedin.com/jobs/search/?currentJobId=3731724315&geoId=106142749&keywords=Data%20Analyst&location=Kansas%20City%2C%20Missouri%2C%20United%20States&origin=JOB_SEARCH_PAGE_SEARCH_BUTTON&refresh=true'\n",
    "\n",
    "target_url = \"https://www.linkedin.com/jobs/search/?currentJobId=3477751834&geoId=100293800&keywords=Python%20(Programming%20Language)&location=Las%20Vegas%2C%20Nevada%2C%20United%20States\"\n",
    "\n",
    "target_url='https://www.linkedin.com/jobs-guest/jobs/api/seeMoreJobPostings/search?keywords=Python%20%28Programming%20Language%29&location=Las%20Vegas%2C%20Nevada%2C%20United%20States&geoId=100293800&currentJobId=3415227738&start={}'\n",
    "\n",
    "number_of_loops = math.ceil(311/25)"
   ]
  },
  {
   "cell_type": "code",
   "execution_count": 7,
   "metadata": {},
   "outputs": [
    {
     "ename": "AttributeError",
     "evalue": "'NoneType' object has no attribute 'get'",
     "output_type": "error",
     "traceback": [
      "\u001b[1;31m---------------------------------------------------------------------------\u001b[0m",
      "\u001b[1;31mAttributeError\u001b[0m                            Traceback (most recent call last)",
      "\u001b[1;32mc:\\Users\\vt8fn\\projects\\recruitment-analysis\\src\\data\\scrape.ipynb Cell 4\u001b[0m line \u001b[0;36m8\n\u001b[0;32m      <a href='vscode-notebook-cell:/c%3A/Users/vt8fn/projects/recruitment-analysis/src/data/scrape.ipynb#W5sZmlsZQ%3D%3D?line=4'>5</a>\u001b[0m alljobs_on_this_page\u001b[39m=\u001b[39msoup\u001b[39m.\u001b[39mfind_all(\u001b[39m\"\u001b[39m\u001b[39mli\u001b[39m\u001b[39m\"\u001b[39m)\n\u001b[0;32m      <a href='vscode-notebook-cell:/c%3A/Users/vt8fn/projects/recruitment-analysis/src/data/scrape.ipynb#W5sZmlsZQ%3D%3D?line=6'>7</a>\u001b[0m \u001b[39mfor\u001b[39;00m x \u001b[39min\u001b[39;00m \u001b[39mrange\u001b[39m(\u001b[39m0\u001b[39m,\u001b[39mlen\u001b[39m(alljobs_on_this_page)):\n\u001b[1;32m----> <a href='vscode-notebook-cell:/c%3A/Users/vt8fn/projects/recruitment-analysis/src/data/scrape.ipynb#W5sZmlsZQ%3D%3D?line=7'>8</a>\u001b[0m     jobid \u001b[39m=\u001b[39m alljobs_on_this_page[x]\u001b[39m.\u001b[39;49mfind(\u001b[39m\"\u001b[39;49m\u001b[39mdiv\u001b[39;49m\u001b[39m\"\u001b[39;49m,{\u001b[39m\"\u001b[39;49m\u001b[39mclass\u001b[39;49m\u001b[39m\"\u001b[39;49m:\u001b[39m\"\u001b[39;49m\u001b[39mbase-card\u001b[39;49m\u001b[39m\"\u001b[39;49m})\u001b[39m.\u001b[39;49mget(\u001b[39m'\u001b[39m\u001b[39mdata-entity-urn\u001b[39m\u001b[39m'\u001b[39m)\u001b[39m.\u001b[39msplit(\u001b[39m\"\u001b[39m\u001b[39m:\u001b[39m\u001b[39m\"\u001b[39m)[\u001b[39m3\u001b[39m]\n\u001b[0;32m      <a href='vscode-notebook-cell:/c%3A/Users/vt8fn/projects/recruitment-analysis/src/data/scrape.ipynb#W5sZmlsZQ%3D%3D?line=8'>9</a>\u001b[0m     l\u001b[39m.\u001b[39mappend(jobid)\n",
      "\u001b[1;31mAttributeError\u001b[0m: 'NoneType' object has no attribute 'get'"
     ]
    }
   ],
   "source": [
    "for i in range(0,math.ceil(311/25)):\n",
    "\n",
    "    res = requests.get(target_url.format(i))\n",
    "    soup=BeautifulSoup(res.text,'html.parser')\n",
    "    alljobs_on_this_page=soup.find_all(\"li\")\n",
    "\n",
    "    for x in range(0,len(alljobs_on_this_page)):\n",
    "        jobid = alljobs_on_this_page[x].find(\"div\",{\"class\":\"base-card\"}).get('data-entity-urn').split(\":\")[3]\n",
    "        l.append(jobid)"
   ]
  }
 ],
 "metadata": {
  "kernelspec": {
   "display_name": "venv",
   "language": "python",
   "name": "python3"
  },
  "language_info": {
   "codemirror_mode": {
    "name": "ipython",
    "version": 3
   },
   "file_extension": ".py",
   "mimetype": "text/x-python",
   "name": "python",
   "nbconvert_exporter": "python",
   "pygments_lexer": "ipython3",
   "version": "3.11.5"
  },
  "orig_nbformat": 4
 },
 "nbformat": 4,
 "nbformat_minor": 2
}
