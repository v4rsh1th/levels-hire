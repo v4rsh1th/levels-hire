{
 "cells": [
  {
   "cell_type": "code",
   "execution_count": 2,
   "metadata": {},
   "outputs": [
    {
     "name": "stdout",
     "output_type": "stream",
     "text": [
      "25\n",
      "25\n",
      "25\n",
      "25\n",
      "25\n",
      "[{'company': 'SynergisticIT', 'job-title': 'Junior Software Engineer', 'level': 'Entry level'}, {'company': 'SynergisticIT', 'job-title': 'Entry Level Full Stack Software Developer(remote)', 'level': 'Entry level'}, {'company': 'SynergisticIT', 'job-title': 'Jr software engineer', 'level': 'Entry level'}, {'company': 'SynergisticIT', 'job-title': 'Machine Learning Developer', 'level': 'Entry level'}, {'company': 'Acres', 'job-title': 'Software Engineer', 'level': 'Employment type\\n        \\n\\n          Full-time'}, {'company': 'MindPal', 'job-title': 'Data Engineer', 'level': 'Entry level'}, {'company': 'Canonical', 'job-title': 'Software Engineer - Talent Science', 'level': 'Entry level'}, {'company': 'MindPal', 'job-title': 'Data Engineer', 'level': 'Entry level'}, {'company': 'MindPal', 'job-title': 'React Developer', 'level': 'Entry level'}, {'company': 'MindPal', 'job-title': 'React Developer', 'level': 'Entry level'}, {'company': 'MindPal', 'job-title': 'Data Engineer', 'level': 'Entry level'}, {'company': 'SynergisticIT', 'job-title': 'Jr. Java MERN Stack developer', 'level': 'Entry level'}, {'company': 'QuantumBricks', 'job-title': 'DevOps Engineer', 'level': 'Entry level'}, {'company': 'MindPal', 'job-title': 'Wordpress Developer', 'level': 'Entry level'}, {'company': 'MindPal', 'job-title': 'Wordpress Developer', 'level': 'Entry level'}, {'company': 'VadaTech Inc.', 'job-title': 'Embedded Software Engineer', 'level': 'Entry level'}, {'company': 'VadaTech Inc.', 'job-title': 'Lead Hardware Test Engineer', 'level': 'Entry level'}, {'company': None, 'job-title': None, 'level': None}, {'company': None, 'job-title': None, 'level': None}, {'company': 'Remoted', 'job-title': 'C++ Developer', 'level': 'Mid-Senior level'}, {'company': 'Axiologic Solutions LLC', 'job-title': 'Systems Engineer', 'level': 'Entry level'}, {'company': 'MindPal', 'job-title': 'C++ Developer', 'level': 'Entry level'}, {'company': None, 'job-title': None, 'level': None}, {'company': 'ChargerGoGo', 'job-title': 'Senior Software Engineer | Senior Frontend Engineer', 'level': 'Mid-Senior level'}, {'company': None, 'job-title': None, 'level': None}, {'company': None, 'job-title': None, 'level': None}, {'company': 'SynergisticIT', 'job-title': 'Jr software engineer', 'level': 'Entry level'}, {'company': None, 'job-title': None, 'level': None}, {'company': 'Acres', 'job-title': 'Software Engineer', 'level': 'Employment type\\n        \\n\\n          Full-time'}, {'company': None, 'job-title': None, 'level': None}, {'company': 'Canonical', 'job-title': 'Software Engineer - Talent Science', 'level': 'Entry level'}, {'company': 'MindPal', 'job-title': 'Data Engineer', 'level': 'Entry level'}, {'company': None, 'job-title': None, 'level': None}, {'company': 'MindPal', 'job-title': 'React Developer', 'level': 'Entry level'}, {'company': 'MindPal', 'job-title': 'Data Engineer', 'level': 'Entry level'}, {'company': None, 'job-title': None, 'level': None}, {'company': None, 'job-title': None, 'level': None}, {'company': None, 'job-title': None, 'level': None}, {'company': 'MindPal', 'job-title': 'Wordpress Developer', 'level': 'Entry level'}, {'company': None, 'job-title': None, 'level': None}, {'company': None, 'job-title': None, 'level': None}, {'company': None, 'job-title': None, 'level': None}, {'company': 'American Heart Association', 'job-title': 'Statistical Analyst', 'level': 'Mid-Senior level'}, {'company': None, 'job-title': None, 'level': None}, {'company': 'Axiologic Solutions LLC', 'job-title': 'Systems Engineer', 'level': 'Entry level'}, {'company': 'Catchafire', 'job-title': 'Volunteer: 1-hour Artificial Intelligence call for California Health Advocates', 'level': 'Mid-Senior level'}, {'company': 'MindPal', 'job-title': 'C++ Developer', 'level': 'Entry level'}, {'company': 'Catchafire', 'job-title': 'Volunteer: 1-hour Artificial Intelligence call for Insight Enterprises', 'level': 'Mid-Senior level'}, {'company': 'Catchafire', 'job-title': 'Volunteer: 1-hour Artificial Intelligence call for One Degree', 'level': 'Mid-Senior level'}, {'company': 'MindPal', 'job-title': 'C++ Developer', 'level': 'Entry level'}, {'company': 'Canonical', 'job-title': 'Engineering Manager, App Stores Backend', 'level': 'Mid-Senior level'}, {'company': 'MindPal', 'job-title': 'Wordpress Developer', 'level': 'Entry level'}, {'company': 'Catchafire', 'job-title': 'Volunteer: 1-hour Artificial Intelligence call for North Sound ACH', 'level': 'Mid-Senior level'}, {'company': 'American Heart Association', 'job-title': 'Statistical Analyst', 'level': 'Mid-Senior level'}, {'company': 'I3 INFOTEK INC', 'job-title': 'iSeries Developer', 'level': 'Employment type\\n        \\n\\n          Contract'}, {'company': 'MindPal', 'job-title': 'C++ Developer', 'level': 'Entry level'}, {'company': 'Catchafire', 'job-title': 'Volunteer: 1-hour Artificial Intelligence call for Operation BBQ Relief', 'level': 'Mid-Senior level'}, {'company': 'ClearanceJobs', 'job-title': 'Data Scientist with Security Clearance', 'level': 'Entry level'}, {'company': 'MindPal', 'job-title': 'Wordpress Developer', 'level': 'Entry level'}, {'company': 'Deloitte', 'job-title': 'Risk & Financial Advisory - Master Business Solution Architect', 'level': 'Not Applicable'}, {'company': 'Canonical', 'job-title': 'Software Engineer - Micro/Private/Bare-Metal Cloud', 'level': 'Entry level'}, {'company': None, 'job-title': None, 'level': None}, {'company': 'ClearanceJobs', 'job-title': 'SOAR Engineer with Security Clearance', 'level': 'Entry level'}, {'company': 'BDO USA', 'job-title': 'Experienced Senior Associate, Forensic Data & Analytics', 'level': 'Mid-Senior level'}, {'company': None, 'job-title': None, 'level': None}, {'company': 'Canonical', 'job-title': 'Senior Software Engineer - Go', 'level': 'Mid-Senior level'}, {'company': 'QuantumBricks', 'job-title': 'DevOps Engineer', 'level': 'Entry level'}, {'company': None, 'job-title': None, 'level': None}, {'company': 'Catchafire', 'job-title': 'Volunteer: 1-hour Artificial Intelligence call for Kids First Initiative', 'level': 'Mid-Senior level'}, {'company': 'SynergisticIT', 'job-title': 'Jr. Java MERN Stack developer', 'level': 'Entry level'}, {'company': None, 'job-title': None, 'level': None}, {'company': None, 'job-title': None, 'level': None}, {'company': None, 'job-title': None, 'level': None}, {'company': None, 'job-title': None, 'level': None}, {'company': None, 'job-title': None, 'level': None}, {'company': None, 'job-title': None, 'level': None}, {'company': 'Acres', 'job-title': 'Software Engineer', 'level': 'Employment type\\n        \\n\\n          Full-time'}, {'company': 'MindPal', 'job-title': 'Data Engineer', 'level': 'Entry level'}, {'company': 'Canonical', 'job-title': 'Software Engineer - Talent Science', 'level': 'Entry level'}, {'company': 'MindPal', 'job-title': 'Data Engineer', 'level': 'Entry level'}, {'company': 'MindPal', 'job-title': 'React Developer', 'level': 'Entry level'}, {'company': 'MindPal', 'job-title': 'React Developer', 'level': 'Entry level'}, {'company': None, 'job-title': None, 'level': None}, {'company': None, 'job-title': None, 'level': None}, {'company': None, 'job-title': None, 'level': None}, {'company': 'MindPal', 'job-title': 'Wordpress Developer', 'level': 'Entry level'}, {'company': 'MindPal', 'job-title': 'Wordpress Developer', 'level': 'Entry level'}, {'company': 'VadaTech Inc.', 'job-title': 'Embedded Software Engineer', 'level': 'Entry level'}, {'company': 'VadaTech Inc.', 'job-title': 'Lead Hardware Test Engineer', 'level': 'Entry level'}, {'company': 'Canonical', 'job-title': 'Software Engineer - Digital Workplace', 'level': 'Entry level'}, {'company': 'American Heart Association', 'job-title': 'Statistical Analyst', 'level': 'Mid-Senior level'}, {'company': 'Catchafire', 'job-title': 'Volunteer: 1-hour Artificial Intelligence call for California Health Advocates', 'level': 'Mid-Senior level'}, {'company': 'Axiologic Solutions LLC', 'job-title': 'Systems Engineer', 'level': 'Entry level'}, {'company': 'Remoted', 'job-title': 'C++ Developer', 'level': 'Mid-Senior level'}, {'company': 'MindPal', 'job-title': 'C++ Developer', 'level': 'Entry level'}, {'company': 'Catchafire', 'job-title': 'Volunteer: 1-hour Artificial Intelligence call for Insight Enterprises', 'level': 'Mid-Senior level'}, {'company': 'Catchafire', 'job-title': 'Volunteer: 1-hour Artificial Intelligence call for One Degree', 'level': 'Mid-Senior level'}, {'company': 'MindPal', 'job-title': 'C++ Developer', 'level': 'Entry level'}, {'company': 'Catchafire', 'job-title': 'Volunteer: 1-hour Artificial Intelligence call for ParaCliffHangers', 'level': 'Mid-Senior level'}, {'company': None, 'job-title': None, 'level': None}, {'company': None, 'job-title': None, 'level': None}, {'company': None, 'job-title': None, 'level': None}, {'company': 'Canonical', 'job-title': 'Software Engineer - Talent Science', 'level': 'Entry level'}, {'company': 'MindPal', 'job-title': 'Data Engineer', 'level': 'Entry level'}, {'company': None, 'job-title': None, 'level': None}, {'company': None, 'job-title': None, 'level': None}, {'company': 'MindPal', 'job-title': 'Data Engineer', 'level': 'Entry level'}, {'company': 'SynergisticIT', 'job-title': 'Jr. Java MERN Stack developer', 'level': 'Entry level'}, {'company': None, 'job-title': None, 'level': None}, {'company': None, 'job-title': None, 'level': None}, {'company': 'MindPal', 'job-title': 'Wordpress Developer', 'level': 'Entry level'}, {'company': 'VadaTech Inc.', 'job-title': 'Embedded Software Engineer', 'level': 'Entry level'}, {'company': 'VadaTech Inc.', 'job-title': 'Lead Hardware Test Engineer', 'level': 'Entry level'}, {'company': None, 'job-title': None, 'level': None}, {'company': 'American Heart Association', 'job-title': 'Statistical Analyst', 'level': 'Mid-Senior level'}, {'company': None, 'job-title': None, 'level': None}, {'company': 'Axiologic Solutions LLC', 'job-title': 'Systems Engineer', 'level': 'Entry level'}, {'company': 'Catchafire', 'job-title': 'Volunteer: 1-hour Artificial Intelligence call for California Health Advocates', 'level': 'Mid-Senior level'}, {'company': 'MindPal', 'job-title': 'C++ Developer', 'level': 'Entry level'}, {'company': 'Catchafire', 'job-title': 'Volunteer: 1-hour Artificial Intelligence call for Insight Enterprises', 'level': 'Mid-Senior level'}, {'company': 'Catchafire', 'job-title': 'Volunteer: 1-hour Artificial Intelligence call for One Degree', 'level': 'Mid-Senior level'}, {'company': None, 'job-title': None, 'level': None}, {'company': 'Catchafire', 'job-title': 'Volunteer: 1-hour Artificial Intelligence call for ParaCliffHangers', 'level': 'Mid-Senior level'}, {'company': None, 'job-title': None, 'level': None}, {'company': None, 'job-title': None, 'level': None}]\n"
     ]
    }
   ],
   "source": [
    "import requests\n",
    "from bs4 import BeautifulSoup\n",
    "import math\n",
    "import pandas as pd\n",
    "l=[]\n",
    "o={}\n",
    "k=[]\n",
    "headers={\"User-Agent\":\"Mozilla/5.0 (Windows NT 10.0; Win64; x64) AppleWebKit/537.36 (KHTML, like Gecko) Chrome/107.0.0.0 Safari/537.36\"}\n",
    "target_url='https://www.linkedin.com/jobs-guest/jobs/api/seeMoreJobPostings/search?keywords=Python%20%28Programming%20Language%29&location=Las%20Vegas%2C%20Nevada%2C%20United%20States&geoId=100293800&currentJobId=3415227738&start={}'\n",
    "for i in range(0,math.ceil(117/25)):\n",
    "\n",
    "    res = requests.get(target_url.format(i))\n",
    "    soup=BeautifulSoup(res.text,'html.parser')\n",
    "    alljobs_on_this_page=soup.find_all(\"li\")\n",
    "    print(len(alljobs_on_this_page))\n",
    "    for x in range(0,len(alljobs_on_this_page)):\n",
    "        jobid = alljobs_on_this_page[x].find(\"div\",{\"class\":\"base-card\"}).get('data-entity-urn').split(\":\")[3]\n",
    "        l.append(jobid)\n",
    "\n",
    "target_url='https://www.linkedin.com/jobs-guest/jobs/api/jobPosting/{}'\n",
    "for j in range(0,len(l)):\n",
    "\n",
    "    resp = requests.get(target_url.format(l[j]))\n",
    "    soup=BeautifulSoup(resp.text,'html.parser')\n",
    "\n",
    "    try:\n",
    "        o[\"company\"]=soup.find(\"div\",{\"class\":\"top-card-layout__card\"}).find(\"a\").find(\"img\").get('alt')\n",
    "    except:\n",
    "        o[\"company\"]=None\n",
    "\n",
    "    try:\n",
    "        o[\"job-title\"]=soup.find(\"div\",{\"class\":\"top-card-layout__entity-info\"}).find(\"a\").text.strip()\n",
    "    except:\n",
    "        o[\"job-title\"]=None\n",
    "\n",
    "    try:\n",
    "        o[\"level\"]=soup.find(\"ul\",{\"class\":\"description__job-criteria-list\"}).find(\"li\").text.replace(\"Seniority level\",\"\").strip()\n",
    "    except:\n",
    "        o[\"level\"]=None\n",
    "\n",
    "\n",
    "\n",
    "    k.append(o)\n",
    "    o={}\n",
    "\n",
    "df = pd.DataFrame(k)\n",
    "df.to_csv('linkedinjobs.csv', index=False, encoding='utf-8')\n",
    "print(k)\n"
   ]
  }
 ],
 "metadata": {
  "kernelspec": {
   "display_name": "venv",
   "language": "python",
   "name": "python3"
  },
  "language_info": {
   "codemirror_mode": {
    "name": "ipython",
    "version": 3
   },
   "file_extension": ".py",
   "mimetype": "text/x-python",
   "name": "python",
   "nbconvert_exporter": "python",
   "pygments_lexer": "ipython3",
   "version": "3.10.8"
  },
  "orig_nbformat": 4
 },
 "nbformat": 4,
 "nbformat_minor": 2
}
